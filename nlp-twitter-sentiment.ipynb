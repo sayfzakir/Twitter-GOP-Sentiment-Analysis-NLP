{
 "cells": [
  {
   "cell_type": "code",
   "execution_count": 1,
   "id": "signal-entry",
   "metadata": {
    "execution": {
     "iopub.execute_input": "2021-05-21T11:59:28.673217Z",
     "iopub.status.busy": "2021-05-21T11:59:28.672598Z",
     "iopub.status.idle": "2021-05-21T11:59:35.729351Z",
     "shell.execute_reply": "2021-05-21T11:59:35.729866Z",
     "shell.execute_reply.started": "2021-05-21T11:43:59.105554Z"
    },
    "papermill": {
     "duration": 7.090252,
     "end_time": "2021-05-21T11:59:35.730166",
     "exception": false,
     "start_time": "2021-05-21T11:59:28.639914",
     "status": "completed"
    },
    "tags": []
   },
   "outputs": [],
   "source": [
    "import pandas as pd\n",
    "import tensorflow as tf\n",
    "from tensorflow.keras.layers import Embedding\n",
    "from tensorflow.keras.preprocessing.sequence import pad_sequences\n",
    "from tensorflow.keras.models import Sequential\n",
    "from tensorflow.keras.preprocessing.text import one_hot\n",
    "from tensorflow.keras.layers import LSTM\n",
    "from tensorflow.keras.layers import Dense, BatchNormalization\n",
    "from tensorflow.keras.callbacks import ModelCheckpoint\n",
    "from keras.layers import Dropout\n",
    "import nltk\n",
    "import re\n",
    "from nltk.corpus import stopwords"
   ]
  },
  {
   "cell_type": "code",
   "execution_count": 2,
   "id": "guilty-possible",
   "metadata": {
    "execution": {
     "iopub.execute_input": "2021-05-21T11:59:35.775494Z",
     "iopub.status.busy": "2021-05-21T11:59:35.774894Z",
     "iopub.status.idle": "2021-05-21T11:59:36.004061Z",
     "shell.execute_reply": "2021-05-21T11:59:36.004567Z",
     "shell.execute_reply.started": "2021-05-21T11:44:06.881802Z"
    },
    "papermill": {
     "duration": 0.254054,
     "end_time": "2021-05-21T11:59:36.004741",
     "exception": false,
     "start_time": "2021-05-21T11:59:35.750687",
     "status": "completed"
    },
    "tags": []
   },
   "outputs": [
    {
     "data": {
      "text/html": [
       "<div>\n",
       "<style scoped>\n",
       "    .dataframe tbody tr th:only-of-type {\n",
       "        vertical-align: middle;\n",
       "    }\n",
       "\n",
       "    .dataframe tbody tr th {\n",
       "        vertical-align: top;\n",
       "    }\n",
       "\n",
       "    .dataframe thead th {\n",
       "        text-align: right;\n",
       "    }\n",
       "</style>\n",
       "<table border=\"1\" class=\"dataframe\">\n",
       "  <thead>\n",
       "    <tr style=\"text-align: right;\">\n",
       "      <th></th>\n",
       "      <th>id</th>\n",
       "      <th>candidate</th>\n",
       "      <th>candidate_confidence</th>\n",
       "      <th>relevant_yn</th>\n",
       "      <th>relevant_yn_confidence</th>\n",
       "      <th>sentiment</th>\n",
       "      <th>sentiment_confidence</th>\n",
       "      <th>subject_matter</th>\n",
       "      <th>subject_matter_confidence</th>\n",
       "      <th>candidate_gold</th>\n",
       "      <th>...</th>\n",
       "      <th>relevant_yn_gold</th>\n",
       "      <th>retweet_count</th>\n",
       "      <th>sentiment_gold</th>\n",
       "      <th>subject_matter_gold</th>\n",
       "      <th>text</th>\n",
       "      <th>tweet_coord</th>\n",
       "      <th>tweet_created</th>\n",
       "      <th>tweet_id</th>\n",
       "      <th>tweet_location</th>\n",
       "      <th>user_timezone</th>\n",
       "    </tr>\n",
       "  </thead>\n",
       "  <tbody>\n",
       "    <tr>\n",
       "      <th>0</th>\n",
       "      <td>1</td>\n",
       "      <td>No candidate mentioned</td>\n",
       "      <td>1.0</td>\n",
       "      <td>yes</td>\n",
       "      <td>1.0</td>\n",
       "      <td>Neutral</td>\n",
       "      <td>0.6578</td>\n",
       "      <td>None of the above</td>\n",
       "      <td>1.0000</td>\n",
       "      <td>NaN</td>\n",
       "      <td>...</td>\n",
       "      <td>NaN</td>\n",
       "      <td>5</td>\n",
       "      <td>NaN</td>\n",
       "      <td>NaN</td>\n",
       "      <td>RT @NancyLeeGrahn: How did everyone feel about...</td>\n",
       "      <td>NaN</td>\n",
       "      <td>2015-08-07 09:54:46 -0700</td>\n",
       "      <td>629697200650592256</td>\n",
       "      <td>NaN</td>\n",
       "      <td>Quito</td>\n",
       "    </tr>\n",
       "    <tr>\n",
       "      <th>1</th>\n",
       "      <td>2</td>\n",
       "      <td>Scott Walker</td>\n",
       "      <td>1.0</td>\n",
       "      <td>yes</td>\n",
       "      <td>1.0</td>\n",
       "      <td>Positive</td>\n",
       "      <td>0.6333</td>\n",
       "      <td>None of the above</td>\n",
       "      <td>1.0000</td>\n",
       "      <td>NaN</td>\n",
       "      <td>...</td>\n",
       "      <td>NaN</td>\n",
       "      <td>26</td>\n",
       "      <td>NaN</td>\n",
       "      <td>NaN</td>\n",
       "      <td>RT @ScottWalker: Didn't catch the full #GOPdeb...</td>\n",
       "      <td>NaN</td>\n",
       "      <td>2015-08-07 09:54:46 -0700</td>\n",
       "      <td>629697199560069120</td>\n",
       "      <td>NaN</td>\n",
       "      <td>NaN</td>\n",
       "    </tr>\n",
       "    <tr>\n",
       "      <th>2</th>\n",
       "      <td>3</td>\n",
       "      <td>No candidate mentioned</td>\n",
       "      <td>1.0</td>\n",
       "      <td>yes</td>\n",
       "      <td>1.0</td>\n",
       "      <td>Neutral</td>\n",
       "      <td>0.6629</td>\n",
       "      <td>None of the above</td>\n",
       "      <td>0.6629</td>\n",
       "      <td>NaN</td>\n",
       "      <td>...</td>\n",
       "      <td>NaN</td>\n",
       "      <td>27</td>\n",
       "      <td>NaN</td>\n",
       "      <td>NaN</td>\n",
       "      <td>RT @TJMShow: No mention of Tamir Rice and the ...</td>\n",
       "      <td>NaN</td>\n",
       "      <td>2015-08-07 09:54:46 -0700</td>\n",
       "      <td>629697199312482304</td>\n",
       "      <td>NaN</td>\n",
       "      <td>NaN</td>\n",
       "    </tr>\n",
       "    <tr>\n",
       "      <th>3</th>\n",
       "      <td>4</td>\n",
       "      <td>No candidate mentioned</td>\n",
       "      <td>1.0</td>\n",
       "      <td>yes</td>\n",
       "      <td>1.0</td>\n",
       "      <td>Positive</td>\n",
       "      <td>1.0000</td>\n",
       "      <td>None of the above</td>\n",
       "      <td>0.7039</td>\n",
       "      <td>NaN</td>\n",
       "      <td>...</td>\n",
       "      <td>NaN</td>\n",
       "      <td>138</td>\n",
       "      <td>NaN</td>\n",
       "      <td>NaN</td>\n",
       "      <td>RT @RobGeorge: That Carly Fiorina is trending ...</td>\n",
       "      <td>NaN</td>\n",
       "      <td>2015-08-07 09:54:45 -0700</td>\n",
       "      <td>629697197118861312</td>\n",
       "      <td>Texas</td>\n",
       "      <td>Central Time (US &amp; Canada)</td>\n",
       "    </tr>\n",
       "    <tr>\n",
       "      <th>4</th>\n",
       "      <td>5</td>\n",
       "      <td>Donald Trump</td>\n",
       "      <td>1.0</td>\n",
       "      <td>yes</td>\n",
       "      <td>1.0</td>\n",
       "      <td>Positive</td>\n",
       "      <td>0.7045</td>\n",
       "      <td>None of the above</td>\n",
       "      <td>1.0000</td>\n",
       "      <td>NaN</td>\n",
       "      <td>...</td>\n",
       "      <td>NaN</td>\n",
       "      <td>156</td>\n",
       "      <td>NaN</td>\n",
       "      <td>NaN</td>\n",
       "      <td>RT @DanScavino: #GOPDebate w/ @realDonaldTrump...</td>\n",
       "      <td>NaN</td>\n",
       "      <td>2015-08-07 09:54:45 -0700</td>\n",
       "      <td>629697196967903232</td>\n",
       "      <td>NaN</td>\n",
       "      <td>Arizona</td>\n",
       "    </tr>\n",
       "  </tbody>\n",
       "</table>\n",
       "<p>5 rows × 21 columns</p>\n",
       "</div>"
      ],
      "text/plain": [
       "   id               candidate  candidate_confidence relevant_yn  \\\n",
       "0   1  No candidate mentioned                   1.0         yes   \n",
       "1   2            Scott Walker                   1.0         yes   \n",
       "2   3  No candidate mentioned                   1.0         yes   \n",
       "3   4  No candidate mentioned                   1.0         yes   \n",
       "4   5            Donald Trump                   1.0         yes   \n",
       "\n",
       "   relevant_yn_confidence sentiment  sentiment_confidence     subject_matter  \\\n",
       "0                     1.0   Neutral                0.6578  None of the above   \n",
       "1                     1.0  Positive                0.6333  None of the above   \n",
       "2                     1.0   Neutral                0.6629  None of the above   \n",
       "3                     1.0  Positive                1.0000  None of the above   \n",
       "4                     1.0  Positive                0.7045  None of the above   \n",
       "\n",
       "   subject_matter_confidence candidate_gold  ... relevant_yn_gold  \\\n",
       "0                     1.0000            NaN  ...              NaN   \n",
       "1                     1.0000            NaN  ...              NaN   \n",
       "2                     0.6629            NaN  ...              NaN   \n",
       "3                     0.7039            NaN  ...              NaN   \n",
       "4                     1.0000            NaN  ...              NaN   \n",
       "\n",
       "  retweet_count  sentiment_gold subject_matter_gold  \\\n",
       "0             5             NaN                 NaN   \n",
       "1            26             NaN                 NaN   \n",
       "2            27             NaN                 NaN   \n",
       "3           138             NaN                 NaN   \n",
       "4           156             NaN                 NaN   \n",
       "\n",
       "                                                text tweet_coord  \\\n",
       "0  RT @NancyLeeGrahn: How did everyone feel about...         NaN   \n",
       "1  RT @ScottWalker: Didn't catch the full #GOPdeb...         NaN   \n",
       "2  RT @TJMShow: No mention of Tamir Rice and the ...         NaN   \n",
       "3  RT @RobGeorge: That Carly Fiorina is trending ...         NaN   \n",
       "4  RT @DanScavino: #GOPDebate w/ @realDonaldTrump...         NaN   \n",
       "\n",
       "               tweet_created            tweet_id  tweet_location  \\\n",
       "0  2015-08-07 09:54:46 -0700  629697200650592256             NaN   \n",
       "1  2015-08-07 09:54:46 -0700  629697199560069120             NaN   \n",
       "2  2015-08-07 09:54:46 -0700  629697199312482304             NaN   \n",
       "3  2015-08-07 09:54:45 -0700  629697197118861312           Texas   \n",
       "4  2015-08-07 09:54:45 -0700  629697196967903232             NaN   \n",
       "\n",
       "                user_timezone  \n",
       "0                       Quito  \n",
       "1                         NaN  \n",
       "2                         NaN  \n",
       "3  Central Time (US & Canada)  \n",
       "4                     Arizona  \n",
       "\n",
       "[5 rows x 21 columns]"
      ]
     },
     "execution_count": 2,
     "metadata": {},
     "output_type": "execute_result"
    }
   ],
   "source": [
    "df=pd.read_csv('data/Sentiment.csv')\n",
    "df.head()"
   ]
  },
  {
   "cell_type": "code",
   "execution_count": 3,
   "id": "korean-diving",
   "metadata": {
    "execution": {
     "iopub.execute_input": "2021-05-21T11:59:36.055356Z",
     "iopub.status.busy": "2021-05-21T11:59:36.054712Z",
     "iopub.status.idle": "2021-05-21T11:59:36.061545Z",
     "shell.execute_reply": "2021-05-21T11:59:36.060829Z",
     "shell.execute_reply.started": "2021-05-21T11:44:19.829780Z"
    },
    "papermill": {
     "duration": 0.035603,
     "end_time": "2021-05-21T11:59:36.061690",
     "exception": false,
     "start_time": "2021-05-21T11:59:36.026087",
     "status": "completed"
    },
    "tags": []
   },
   "outputs": [],
   "source": [
    "df = df[df.sentiment != \"Neutral\"]"
   ]
  },
  {
   "cell_type": "code",
   "execution_count": 4,
   "id": "religious-family",
   "metadata": {
    "execution": {
     "iopub.execute_input": "2021-05-21T11:59:36.108197Z",
     "iopub.status.busy": "2021-05-21T11:59:36.107203Z",
     "iopub.status.idle": "2021-05-21T11:59:36.121385Z",
     "shell.execute_reply": "2021-05-21T11:59:36.121907Z",
     "shell.execute_reply.started": "2021-05-21T11:44:36.528498Z"
    },
    "papermill": {
     "duration": 0.038659,
     "end_time": "2021-05-21T11:59:36.122071",
     "exception": false,
     "start_time": "2021-05-21T11:59:36.083412",
     "status": "completed"
    },
    "tags": []
   },
   "outputs": [
    {
     "data": {
      "text/html": [
       "<div>\n",
       "<style scoped>\n",
       "    .dataframe tbody tr th:only-of-type {\n",
       "        vertical-align: middle;\n",
       "    }\n",
       "\n",
       "    .dataframe tbody tr th {\n",
       "        vertical-align: top;\n",
       "    }\n",
       "\n",
       "    .dataframe thead th {\n",
       "        text-align: right;\n",
       "    }\n",
       "</style>\n",
       "<table border=\"1\" class=\"dataframe\">\n",
       "  <thead>\n",
       "    <tr style=\"text-align: right;\">\n",
       "      <th></th>\n",
       "      <th>id</th>\n",
       "      <th>text</th>\n",
       "    </tr>\n",
       "  </thead>\n",
       "  <tbody>\n",
       "    <tr>\n",
       "      <th>1</th>\n",
       "      <td>2</td>\n",
       "      <td>RT @ScottWalker: Didn't catch the full #GOPdeb...</td>\n",
       "    </tr>\n",
       "    <tr>\n",
       "      <th>3</th>\n",
       "      <td>4</td>\n",
       "      <td>RT @RobGeorge: That Carly Fiorina is trending ...</td>\n",
       "    </tr>\n",
       "    <tr>\n",
       "      <th>4</th>\n",
       "      <td>5</td>\n",
       "      <td>RT @DanScavino: #GOPDebate w/ @realDonaldTrump...</td>\n",
       "    </tr>\n",
       "    <tr>\n",
       "      <th>5</th>\n",
       "      <td>6</td>\n",
       "      <td>RT @GregAbbott_TX: @TedCruz: \"On my first day ...</td>\n",
       "    </tr>\n",
       "    <tr>\n",
       "      <th>6</th>\n",
       "      <td>7</td>\n",
       "      <td>RT @warriorwoman91: I liked her and was happy ...</td>\n",
       "    </tr>\n",
       "    <tr>\n",
       "      <th>...</th>\n",
       "      <td>...</td>\n",
       "      <td>...</td>\n",
       "    </tr>\n",
       "    <tr>\n",
       "      <th>13866</th>\n",
       "      <td>13867</td>\n",
       "      <td>RT @cappy_yarbrough: Love to see men who will ...</td>\n",
       "    </tr>\n",
       "    <tr>\n",
       "      <th>13867</th>\n",
       "      <td>13868</td>\n",
       "      <td>RT @georgehenryw: Who thought Huckabee exceede...</td>\n",
       "    </tr>\n",
       "    <tr>\n",
       "      <th>13868</th>\n",
       "      <td>13869</td>\n",
       "      <td>RT @Lrihendry: #TedCruz As President, I will a...</td>\n",
       "    </tr>\n",
       "    <tr>\n",
       "      <th>13869</th>\n",
       "      <td>13870</td>\n",
       "      <td>RT @JRehling: #GOPDebate Donald Trump says tha...</td>\n",
       "    </tr>\n",
       "    <tr>\n",
       "      <th>13870</th>\n",
       "      <td>13871</td>\n",
       "      <td>RT @Lrihendry: #TedCruz headed into the Presid...</td>\n",
       "    </tr>\n",
       "  </tbody>\n",
       "</table>\n",
       "<p>10729 rows × 2 columns</p>\n",
       "</div>"
      ],
      "text/plain": [
       "          id                                               text\n",
       "1          2  RT @ScottWalker: Didn't catch the full #GOPdeb...\n",
       "3          4  RT @RobGeorge: That Carly Fiorina is trending ...\n",
       "4          5  RT @DanScavino: #GOPDebate w/ @realDonaldTrump...\n",
       "5          6  RT @GregAbbott_TX: @TedCruz: \"On my first day ...\n",
       "6          7  RT @warriorwoman91: I liked her and was happy ...\n",
       "...      ...                                                ...\n",
       "13866  13867  RT @cappy_yarbrough: Love to see men who will ...\n",
       "13867  13868  RT @georgehenryw: Who thought Huckabee exceede...\n",
       "13868  13869  RT @Lrihendry: #TedCruz As President, I will a...\n",
       "13869  13870  RT @JRehling: #GOPDebate Donald Trump says tha...\n",
       "13870  13871  RT @Lrihendry: #TedCruz headed into the Presid...\n",
       "\n",
       "[10729 rows x 2 columns]"
      ]
     },
     "execution_count": 4,
     "metadata": {},
     "output_type": "execute_result"
    }
   ],
   "source": [
    "X=df.drop(['candidate','candidate_confidence','relevant_yn','relevant_yn_confidence','sentiment_confidence','subject_matter','subject_matter_confidence','candidate_gold','name','relevant_yn_gold','retweet_count','sentiment_gold','subject_matter_gold','tweet_coord','tweet_created','tweet_id','tweet_location','user_timezone','sentiment'],axis=1)\n",
    "X"
   ]
  },
  {
   "cell_type": "code",
   "execution_count": 5,
   "id": "statewide-royal",
   "metadata": {
    "execution": {
     "iopub.execute_input": "2021-05-21T11:59:36.169504Z",
     "iopub.status.busy": "2021-05-21T11:59:36.168509Z",
     "iopub.status.idle": "2021-05-21T11:59:36.179787Z",
     "shell.execute_reply": "2021-05-21T11:59:36.179263Z",
     "shell.execute_reply.started": "2021-05-21T11:44:37.817640Z"
    },
    "papermill": {
     "duration": 0.035534,
     "end_time": "2021-05-21T11:59:36.179934",
     "exception": false,
     "start_time": "2021-05-21T11:59:36.144400",
     "status": "completed"
    },
    "tags": []
   },
   "outputs": [
    {
     "data": {
      "text/plain": [
       "array([1, 1, 1, ..., 1, 0, 1])"
      ]
     },
     "execution_count": 5,
     "metadata": {},
     "output_type": "execute_result"
    }
   ],
   "source": [
    "Y=df['sentiment']\n",
    "from sklearn import preprocessing\n",
    "le = preprocessing.LabelEncoder()\n",
    "Y=le.fit_transform(Y)\n",
    "Y"
   ]
  },
  {
   "cell_type": "code",
   "execution_count": 6,
   "id": "vulnerable-particle",
   "metadata": {
    "execution": {
     "iopub.execute_input": "2021-05-21T11:59:36.227252Z",
     "iopub.status.busy": "2021-05-21T11:59:36.226628Z",
     "iopub.status.idle": "2021-05-21T11:59:36.233221Z",
     "shell.execute_reply": "2021-05-21T11:59:36.232444Z",
     "shell.execute_reply.started": "2021-05-21T11:44:38.817270Z"
    },
    "papermill": {
     "duration": 0.031545,
     "end_time": "2021-05-21T11:59:36.233428",
     "exception": false,
     "start_time": "2021-05-21T11:59:36.201883",
     "status": "completed"
    },
    "tags": []
   },
   "outputs": [
    {
     "name": "stdout",
     "output_type": "stream",
     "text": [
      "{'Negative': 0, 'Positive': 1}\n"
     ]
    }
   ],
   "source": [
    "le_name_mapping = dict(zip(le.classes_, le.transform(le.classes_)))\n",
    "print(le_name_mapping)"
   ]
  },
  {
   "cell_type": "code",
   "execution_count": 7,
   "id": "dirty-robin",
   "metadata": {
    "execution": {
     "iopub.execute_input": "2021-05-21T11:59:36.282562Z",
     "iopub.status.busy": "2021-05-21T11:59:36.281910Z",
     "iopub.status.idle": "2021-05-21T11:59:36.285122Z",
     "shell.execute_reply": "2021-05-21T11:59:36.284635Z",
     "shell.execute_reply.started": "2021-05-21T11:44:40.106350Z"
    },
    "papermill": {
     "duration": 0.029206,
     "end_time": "2021-05-21T11:59:36.285258",
     "exception": false,
     "start_time": "2021-05-21T11:59:36.256052",
     "status": "completed"
    },
    "tags": []
   },
   "outputs": [],
   "source": [
    "voc_size=10000"
   ]
  },
  {
   "cell_type": "code",
   "execution_count": 8,
   "id": "virtual-rubber",
   "metadata": {
    "execution": {
     "iopub.execute_input": "2021-05-21T11:59:36.344738Z",
     "iopub.status.busy": "2021-05-21T11:59:36.343715Z",
     "iopub.status.idle": "2021-05-21T11:59:36.347633Z",
     "shell.execute_reply": "2021-05-21T11:59:36.348222Z",
     "shell.execute_reply.started": "2021-05-21T11:44:41.694528Z"
    },
    "papermill": {
     "duration": 0.040935,
     "end_time": "2021-05-21T11:59:36.348406",
     "exception": false,
     "start_time": "2021-05-21T11:59:36.307471",
     "status": "completed"
    },
    "tags": []
   },
   "outputs": [
    {
     "data": {
      "text/html": [
       "<div>\n",
       "<style scoped>\n",
       "    .dataframe tbody tr th:only-of-type {\n",
       "        vertical-align: middle;\n",
       "    }\n",
       "\n",
       "    .dataframe tbody tr th {\n",
       "        vertical-align: top;\n",
       "    }\n",
       "\n",
       "    .dataframe thead th {\n",
       "        text-align: right;\n",
       "    }\n",
       "</style>\n",
       "<table border=\"1\" class=\"dataframe\">\n",
       "  <thead>\n",
       "    <tr style=\"text-align: right;\">\n",
       "      <th></th>\n",
       "      <th>index</th>\n",
       "      <th>id</th>\n",
       "      <th>text</th>\n",
       "    </tr>\n",
       "  </thead>\n",
       "  <tbody>\n",
       "    <tr>\n",
       "      <th>0</th>\n",
       "      <td>1</td>\n",
       "      <td>2</td>\n",
       "      <td>RT @ScottWalker: Didn't catch the full #GOPdeb...</td>\n",
       "    </tr>\n",
       "    <tr>\n",
       "      <th>1</th>\n",
       "      <td>3</td>\n",
       "      <td>4</td>\n",
       "      <td>RT @RobGeorge: That Carly Fiorina is trending ...</td>\n",
       "    </tr>\n",
       "    <tr>\n",
       "      <th>2</th>\n",
       "      <td>4</td>\n",
       "      <td>5</td>\n",
       "      <td>RT @DanScavino: #GOPDebate w/ @realDonaldTrump...</td>\n",
       "    </tr>\n",
       "    <tr>\n",
       "      <th>3</th>\n",
       "      <td>5</td>\n",
       "      <td>6</td>\n",
       "      <td>RT @GregAbbott_TX: @TedCruz: \"On my first day ...</td>\n",
       "    </tr>\n",
       "    <tr>\n",
       "      <th>4</th>\n",
       "      <td>6</td>\n",
       "      <td>7</td>\n",
       "      <td>RT @warriorwoman91: I liked her and was happy ...</td>\n",
       "    </tr>\n",
       "    <tr>\n",
       "      <th>...</th>\n",
       "      <td>...</td>\n",
       "      <td>...</td>\n",
       "      <td>...</td>\n",
       "    </tr>\n",
       "    <tr>\n",
       "      <th>10724</th>\n",
       "      <td>13866</td>\n",
       "      <td>13867</td>\n",
       "      <td>RT @cappy_yarbrough: Love to see men who will ...</td>\n",
       "    </tr>\n",
       "    <tr>\n",
       "      <th>10725</th>\n",
       "      <td>13867</td>\n",
       "      <td>13868</td>\n",
       "      <td>RT @georgehenryw: Who thought Huckabee exceede...</td>\n",
       "    </tr>\n",
       "    <tr>\n",
       "      <th>10726</th>\n",
       "      <td>13868</td>\n",
       "      <td>13869</td>\n",
       "      <td>RT @Lrihendry: #TedCruz As President, I will a...</td>\n",
       "    </tr>\n",
       "    <tr>\n",
       "      <th>10727</th>\n",
       "      <td>13869</td>\n",
       "      <td>13870</td>\n",
       "      <td>RT @JRehling: #GOPDebate Donald Trump says tha...</td>\n",
       "    </tr>\n",
       "    <tr>\n",
       "      <th>10728</th>\n",
       "      <td>13870</td>\n",
       "      <td>13871</td>\n",
       "      <td>RT @Lrihendry: #TedCruz headed into the Presid...</td>\n",
       "    </tr>\n",
       "  </tbody>\n",
       "</table>\n",
       "<p>10729 rows × 3 columns</p>\n",
       "</div>"
      ],
      "text/plain": [
       "       index     id                                               text\n",
       "0          1      2  RT @ScottWalker: Didn't catch the full #GOPdeb...\n",
       "1          3      4  RT @RobGeorge: That Carly Fiorina is trending ...\n",
       "2          4      5  RT @DanScavino: #GOPDebate w/ @realDonaldTrump...\n",
       "3          5      6  RT @GregAbbott_TX: @TedCruz: \"On my first day ...\n",
       "4          6      7  RT @warriorwoman91: I liked her and was happy ...\n",
       "...      ...    ...                                                ...\n",
       "10724  13866  13867  RT @cappy_yarbrough: Love to see men who will ...\n",
       "10725  13867  13868  RT @georgehenryw: Who thought Huckabee exceede...\n",
       "10726  13868  13869  RT @Lrihendry: #TedCruz As President, I will a...\n",
       "10727  13869  13870  RT @JRehling: #GOPDebate Donald Trump says tha...\n",
       "10728  13870  13871  RT @Lrihendry: #TedCruz headed into the Presid...\n",
       "\n",
       "[10729 rows x 3 columns]"
      ]
     },
     "execution_count": 8,
     "metadata": {},
     "output_type": "execute_result"
    }
   ],
   "source": [
    "X.reset_index(inplace=True)\n",
    "X"
   ]
  },
  {
   "cell_type": "code",
   "execution_count": 9,
   "id": "worthy-wrong",
   "metadata": {
    "execution": {
     "iopub.execute_input": "2021-05-21T11:59:36.397205Z",
     "iopub.status.busy": "2021-05-21T11:59:36.396239Z",
     "iopub.status.idle": "2021-05-21T11:59:36.736763Z",
     "shell.execute_reply": "2021-05-21T11:59:36.736219Z",
     "shell.execute_reply.started": "2021-05-21T11:44:45.868967Z"
    },
    "papermill": {
     "duration": 0.366042,
     "end_time": "2021-05-21T11:59:36.736899",
     "exception": false,
     "start_time": "2021-05-21T11:59:36.370857",
     "status": "completed"
    },
    "tags": []
   },
   "outputs": [
    {
     "name": "stdout",
     "output_type": "stream",
     "text": [
      "[nltk_data] Downloading package stopwords to /usr/share/nltk_data...\n",
      "[nltk_data]   Package stopwords is already up-to-date!\n"
     ]
    },
    {
     "data": {
      "text/plain": [
       "True"
      ]
     },
     "execution_count": 9,
     "metadata": {},
     "output_type": "execute_result"
    }
   ],
   "source": [
    "nltk.download('stopwords')"
   ]
  },
  {
   "cell_type": "code",
   "execution_count": 10,
   "id": "postal-innocent",
   "metadata": {
    "execution": {
     "iopub.execute_input": "2021-05-21T11:59:36.792508Z",
     "iopub.status.busy": "2021-05-21T11:59:36.791807Z",
     "iopub.status.idle": "2021-05-21T12:00:05.199426Z",
     "shell.execute_reply": "2021-05-21T12:00:05.198832Z",
     "shell.execute_reply.started": "2021-05-21T11:44:48.614558Z"
    },
    "papermill": {
     "duration": 28.439212,
     "end_time": "2021-05-21T12:00:05.199578",
     "exception": false,
     "start_time": "2021-05-21T11:59:36.760366",
     "status": "completed"
    },
    "tags": []
   },
   "outputs": [],
   "source": [
    "from nltk.stem.porter import PorterStemmer\n",
    "ps = PorterStemmer()\n",
    "corpus = []\n",
    "for i in range(0, len(X)):\n",
    "    review = re.sub('[^a-zA-Z]', ' ', X['text'][i])\n",
    "    review = review.lower()\n",
    "    review = review.split()\n",
    "    \n",
    "    review1 = [ps.stem(word) for word in review if not word in stopwords.words('english')]\n",
    "    review1 = ' '.join(review1)\n",
    "    corpus.append(review1)"
   ]
  },
  {
   "cell_type": "code",
   "execution_count": 11,
   "id": "supported-bernard",
   "metadata": {
    "execution": {
     "iopub.execute_input": "2021-05-21T12:00:05.280782Z",
     "iopub.status.busy": "2021-05-21T12:00:05.270466Z",
     "iopub.status.idle": "2021-05-21T12:00:05.411729Z",
     "shell.execute_reply": "2021-05-21T12:00:05.411133Z",
     "shell.execute_reply.started": "2021-05-21T11:45:34.720452Z"
    },
    "papermill": {
     "duration": 0.188566,
     "end_time": "2021-05-21T12:00:05.411903",
     "exception": false,
     "start_time": "2021-05-21T12:00:05.223337",
     "status": "completed"
    },
    "tags": []
   },
   "outputs": [],
   "source": [
    "onehot_repr=[one_hot(words,voc_size)for words in corpus] "
   ]
  },
  {
   "cell_type": "code",
   "execution_count": 12,
   "id": "unsigned-scott",
   "metadata": {
    "execution": {
     "iopub.execute_input": "2021-05-21T12:00:05.467318Z",
     "iopub.status.busy": "2021-05-21T12:00:05.466656Z",
     "iopub.status.idle": "2021-05-21T12:00:05.557305Z",
     "shell.execute_reply": "2021-05-21T12:00:05.556312Z",
     "shell.execute_reply.started": "2021-05-21T11:45:42.044965Z"
    },
    "papermill": {
     "duration": 0.121703,
     "end_time": "2021-05-21T12:00:05.557578",
     "exception": false,
     "start_time": "2021-05-21T12:00:05.435875",
     "status": "completed"
    },
    "tags": []
   },
   "outputs": [
    {
     "name": "stdout",
     "output_type": "stream",
     "text": [
      "[[   0    0    0 ... 5630 1170 9066]\n",
      " [   0    0    0 ... 4551 7015 8436]\n",
      " [   0    0    0 ... 1903 5630 1170]\n",
      " ...\n",
      " [   0    0    0 ... 4861 9333 7015]\n",
      " [   0    0    0 ... 9546  581 4171]\n",
      " [   0    0    0 ... 5630 1170 2142]]\n"
     ]
    }
   ],
   "source": [
    "sent_length=20\n",
    "embedded_docs=pad_sequences(onehot_repr,padding='pre',maxlen=sent_length)\n",
    "print(embedded_docs)"
   ]
  },
  {
   "cell_type": "code",
   "execution_count": 13,
   "id": "nervous-adams",
   "metadata": {
    "execution": {
     "iopub.execute_input": "2021-05-21T12:00:05.613708Z",
     "iopub.status.busy": "2021-05-21T12:00:05.613034Z",
     "iopub.status.idle": "2021-05-21T12:00:06.031405Z",
     "shell.execute_reply": "2021-05-21T12:00:06.032135Z",
     "shell.execute_reply.started": "2021-05-21T11:45:42.529145Z"
    },
    "papermill": {
     "duration": 0.450133,
     "end_time": "2021-05-21T12:00:06.032389",
     "exception": false,
     "start_time": "2021-05-21T12:00:05.582256",
     "status": "completed"
    },
    "tags": []
   },
   "outputs": [
    {
     "name": "stdout",
     "output_type": "stream",
     "text": [
      "Model: \"sequential\"\n",
      "_________________________________________________________________\n",
      "Layer (type)                 Output Shape              Param #   \n",
      "=================================================================\n",
      "embedding (Embedding)        (None, 20, 80)            800000    \n",
      "_________________________________________________________________\n",
      "lstm (LSTM)                  (None, 16)                6208      \n",
      "_________________________________________________________________\n",
      "dense (Dense)                (None, 32)                544       \n",
      "_________________________________________________________________\n",
      "dropout (Dropout)            (None, 32)                0         \n",
      "_________________________________________________________________\n",
      "dense_1 (Dense)              (None, 1)                 33        \n",
      "=================================================================\n",
      "Total params: 806,785\n",
      "Trainable params: 806,785\n",
      "Non-trainable params: 0\n",
      "_________________________________________________________________\n",
      "None\n"
     ]
    }
   ],
   "source": [
    "embedding_vector_features=80\n",
    "model=Sequential()\n",
    "model.add(Embedding(voc_size,embedding_vector_features,input_length=sent_length))\n",
    "model.add(LSTM(16))\n",
    "model.add(Dense(32,activation='relu',kernel_regularizer=tf.keras.regularizers.l1(0.01)))\n",
    "model.add(Dropout(0.2))\n",
    "model.add(Dense(1,activation='sigmoid'))\n",
    "model.compile(loss='binary_crossentropy',optimizer= tf.keras.optimizers.Adam(learning_rate=0.001),metrics=['accuracy'])\n",
    "print(model.summary())\n",
    "model_save = ModelCheckpoint('weights.h5', \n",
    "                              save_best_only = True, \n",
    "                              save_weights_only = True,\n",
    "                              monitor = 'val_accuracy', \n",
    "                              mode = 'max', verbose = 1)"
   ]
  },
  {
   "cell_type": "code",
   "execution_count": 14,
   "id": "satellite-anatomy",
   "metadata": {
    "execution": {
     "iopub.execute_input": "2021-05-21T12:00:06.086435Z",
     "iopub.status.busy": "2021-05-21T12:00:06.085486Z",
     "iopub.status.idle": "2021-05-21T12:00:06.091322Z",
     "shell.execute_reply": "2021-05-21T12:00:06.090680Z",
     "shell.execute_reply.started": "2021-05-21T11:45:44.119357Z"
    },
    "papermill": {
     "duration": 0.034345,
     "end_time": "2021-05-21T12:00:06.091475",
     "exception": false,
     "start_time": "2021-05-21T12:00:06.057130",
     "status": "completed"
    },
    "tags": []
   },
   "outputs": [
    {
     "data": {
      "text/plain": [
       "((10729, 20), (10729,))"
      ]
     },
     "execution_count": 14,
     "metadata": {},
     "output_type": "execute_result"
    }
   ],
   "source": [
    "import numpy as np\n",
    "X_final=np.array(embedded_docs)\n",
    "y_final=np.array(Y)\n",
    "X_final.shape,y_final.shape"
   ]
  },
  {
   "cell_type": "code",
   "execution_count": 15,
   "id": "drawn-patrol",
   "metadata": {
    "execution": {
     "iopub.execute_input": "2021-05-21T12:00:06.155688Z",
     "iopub.status.busy": "2021-05-21T12:00:06.153362Z",
     "iopub.status.idle": "2021-05-21T12:00:06.160819Z",
     "shell.execute_reply": "2021-05-21T12:00:06.160109Z",
     "shell.execute_reply.started": "2021-05-21T11:52:31.092008Z"
    },
    "papermill": {
     "duration": 0.045317,
     "end_time": "2021-05-21T12:00:06.161011",
     "exception": false,
     "start_time": "2021-05-21T12:00:06.115694",
     "status": "completed"
    },
    "tags": []
   },
   "outputs": [
    {
     "name": "stdout",
     "output_type": "stream",
     "text": [
      "8493\n",
      "2236\n"
     ]
    }
   ],
   "source": [
    "count0=0\n",
    "count1=0\n",
    "for i in range(0,len(y_final)):\n",
    "    if y_final[i] == 0:\n",
    "        count0=count0+1\n",
    "    else:\n",
    "        count1=count1+1\n",
    "\n",
    "print(count0)\n",
    "print(count1)"
   ]
  },
  {
   "cell_type": "code",
   "execution_count": 16,
   "id": "respiratory-resistance",
   "metadata": {
    "execution": {
     "iopub.execute_input": "2021-05-21T12:00:06.217256Z",
     "iopub.status.busy": "2021-05-21T12:00:06.216602Z",
     "iopub.status.idle": "2021-05-21T12:00:06.221321Z",
     "shell.execute_reply": "2021-05-21T12:00:06.220781Z",
     "shell.execute_reply.started": "2021-05-21T11:45:44.803983Z"
    },
    "papermill": {
     "duration": 0.034726,
     "end_time": "2021-05-21T12:00:06.221470",
     "exception": false,
     "start_time": "2021-05-21T12:00:06.186744",
     "status": "completed"
    },
    "tags": []
   },
   "outputs": [],
   "source": [
    "from sklearn.model_selection import train_test_split\n",
    "X_train, X_test, y_train, y_test = train_test_split(X_final, y_final, test_size=0.20, random_state=42)"
   ]
  },
  {
   "cell_type": "code",
   "execution_count": 17,
   "id": "extra-fishing",
   "metadata": {
    "execution": {
     "iopub.execute_input": "2021-05-21T12:00:06.284938Z",
     "iopub.status.busy": "2021-05-21T12:00:06.279435Z",
     "iopub.status.idle": "2021-05-21T12:00:06.289638Z",
     "shell.execute_reply": "2021-05-21T12:00:06.288667Z",
     "shell.execute_reply.started": "2021-05-21T11:51:33.557040Z"
    },
    "papermill": {
     "duration": 0.043045,
     "end_time": "2021-05-21T12:00:06.289791",
     "exception": false,
     "start_time": "2021-05-21T12:00:06.246746",
     "status": "completed"
    },
    "tags": []
   },
   "outputs": [
    {
     "name": "stdout",
     "output_type": "stream",
     "text": [
      "6780\n",
      "1803\n"
     ]
    }
   ],
   "source": [
    "count0=0\n",
    "count1=0\n",
    "for i in range(0,len(y_train)):\n",
    "    if y_train[i] == 0:\n",
    "        count0=count0+1\n",
    "    else:\n",
    "        count1=count1+1\n",
    "\n",
    "print(count0)\n",
    "print(count1)"
   ]
  },
  {
   "cell_type": "code",
   "execution_count": 18,
   "id": "diverse-preparation",
   "metadata": {
    "execution": {
     "iopub.execute_input": "2021-05-21T12:00:06.348937Z",
     "iopub.status.busy": "2021-05-21T12:00:06.348125Z",
     "iopub.status.idle": "2021-05-21T12:00:06.352660Z",
     "shell.execute_reply": "2021-05-21T12:00:06.351990Z",
     "shell.execute_reply.started": "2021-05-21T11:54:13.591562Z"
    },
    "papermill": {
     "duration": 0.037659,
     "end_time": "2021-05-21T12:00:06.352807",
     "exception": false,
     "start_time": "2021-05-21T12:00:06.315148",
     "status": "completed"
    },
    "tags": []
   },
   "outputs": [
    {
     "name": "stdout",
     "output_type": "stream",
     "text": [
      "1713\n",
      "433\n"
     ]
    }
   ],
   "source": [
    "count0=0\n",
    "count1=0\n",
    "for i in range(0,len(y_test)):\n",
    "    if y_test[i] == 0:\n",
    "        count0=count0+1\n",
    "    else:\n",
    "        count1=count1+1\n",
    "\n",
    "print(count0)\n",
    "print(count1)"
   ]
  },
  {
   "cell_type": "code",
   "execution_count": 19,
   "id": "heavy-overall",
   "metadata": {
    "execution": {
     "iopub.execute_input": "2021-05-21T12:00:06.410739Z",
     "iopub.status.busy": "2021-05-21T12:00:06.409955Z",
     "iopub.status.idle": "2021-05-21T12:00:21.340716Z",
     "shell.execute_reply": "2021-05-21T12:00:21.340038Z",
     "shell.execute_reply.started": "2021-05-21T11:45:45.772701Z"
    },
    "papermill": {
     "duration": 14.961514,
     "end_time": "2021-05-21T12:00:21.340871",
     "exception": false,
     "start_time": "2021-05-21T12:00:06.379357",
     "status": "completed"
    },
    "tags": []
   },
   "outputs": [
    {
     "name": "stdout",
     "output_type": "stream",
     "text": [
      "Epoch 1/10\n",
      "61/61 [==============================] - 4s 34ms/step - loss: 1.4323 - accuracy: 0.7707 - val_loss: 1.0900 - val_accuracy: 0.7858\n",
      "\n",
      "Epoch 00001: val_accuracy improved from -inf to 0.78580, saving model to weights.h5\n",
      "Epoch 2/10\n",
      "61/61 [==============================] - 1s 19ms/step - loss: 1.0008 - accuracy: 0.7915 - val_loss: 0.7815 - val_accuracy: 0.8417\n",
      "\n",
      "Epoch 00002: val_accuracy improved from 0.78580 to 0.84168, saving model to weights.h5\n",
      "Epoch 3/10\n",
      "61/61 [==============================] - 1s 19ms/step - loss: 0.6763 - accuracy: 0.8716 - val_loss: 0.6036 - val_accuracy: 0.8766\n",
      "\n",
      "Epoch 00003: val_accuracy improved from 0.84168 to 0.87660, saving model to weights.h5\n",
      "Epoch 4/10\n",
      "61/61 [==============================] - 1s 19ms/step - loss: 0.4731 - accuracy: 0.9209 - val_loss: 0.4975 - val_accuracy: 0.8847\n",
      "\n",
      "Epoch 00004: val_accuracy improved from 0.87660 to 0.88475, saving model to weights.h5\n",
      "Epoch 5/10\n",
      "61/61 [==============================] - 1s 20ms/step - loss: 0.3476 - accuracy: 0.9322 - val_loss: 0.4399 - val_accuracy: 0.8719\n",
      "\n",
      "Epoch 00005: val_accuracy did not improve from 0.88475\n",
      "Epoch 6/10\n",
      "61/61 [==============================] - 1s 19ms/step - loss: 0.2712 - accuracy: 0.9471 - val_loss: 0.4429 - val_accuracy: 0.8568\n",
      "\n",
      "Epoch 00006: val_accuracy did not improve from 0.88475\n",
      "Epoch 7/10\n",
      "61/61 [==============================] - 1s 19ms/step - loss: 0.2330 - accuracy: 0.9531 - val_loss: 0.4401 - val_accuracy: 0.8533\n",
      "\n",
      "Epoch 00007: val_accuracy did not improve from 0.88475\n",
      "Epoch 8/10\n",
      "61/61 [==============================] - 1s 20ms/step - loss: 0.2178 - accuracy: 0.9614 - val_loss: 0.4489 - val_accuracy: 0.8556\n",
      "\n",
      "Epoch 00008: val_accuracy did not improve from 0.88475\n",
      "Epoch 9/10\n",
      "61/61 [==============================] - 1s 19ms/step - loss: 0.2122 - accuracy: 0.9608 - val_loss: 0.4451 - val_accuracy: 0.8696\n",
      "\n",
      "Epoch 00009: val_accuracy did not improve from 0.88475\n",
      "Epoch 10/10\n",
      "61/61 [==============================] - 1s 19ms/step - loss: 0.1976 - accuracy: 0.9634 - val_loss: 0.4615 - val_accuracy: 0.8650\n",
      "\n",
      "Epoch 00010: val_accuracy did not improve from 0.88475\n"
     ]
    }
   ],
   "source": [
    "history=model.fit(X_train,y_train,validation_split=0.1,epochs=10,batch_size=128,callbacks = [model_save])"
   ]
  },
  {
   "cell_type": "code",
   "execution_count": 20,
   "id": "instrumental-termination",
   "metadata": {
    "execution": {
     "iopub.execute_input": "2021-05-21T12:00:21.521440Z",
     "iopub.status.busy": "2021-05-21T12:00:21.520463Z",
     "iopub.status.idle": "2021-05-21T12:00:21.850600Z",
     "shell.execute_reply": "2021-05-21T12:00:21.851079Z",
     "shell.execute_reply.started": "2021-05-20T16:19:12.693296Z"
    },
    "papermill": {
     "duration": 0.42188,
     "end_time": "2021-05-21T12:00:21.851252",
     "exception": false,
     "start_time": "2021-05-21T12:00:21.429372",
     "status": "completed"
    },
    "tags": []
   },
   "outputs": [
    {
     "name": "stdout",
     "output_type": "stream",
     "text": [
      "dict_keys(['loss', 'accuracy', 'val_loss', 'val_accuracy'])\n"
     ]
    },
    {
     "data": {
      "image/png": "[encoded data removed]",
      "text/plain": [
       "<Figure size 432x288 with 1 Axes>"
      ]
     },
     "metadata": {
      "needs_background": "light"
     },
     "output_type": "display_data"
    },
    {
     "data": {
      "image/png": "[encoded data removed]",
      "text/plain": [
       "<Figure size 432x288 with 1 Axes>"
      ]
     },
     "metadata": {
      "needs_background": "light"
     },
     "output_type": "display_data"
    }
   ],
   "source": [
    "import matplotlib.pyplot as plt\n",
    "print(history.history.keys())\n",
    "plt.plot(history.history['accuracy'],color='c')\n",
    "plt.plot(history.history['val_accuracy'],color='m')\n",
    "plt.title('model accuracy')\n",
    "plt.ylabel('accuracy')\n",
    "plt.xlabel('epoch')\n",
    "plt.legend(['train', 'validation'], loc='upper left')\n",
    "plt.show()\n",
    "\n",
    "plt.plot(history.history['loss'],color='c')\n",
    "plt.plot(history.history['val_loss'],color='m')\n",
    "plt.title('Model Loss')\n",
    "plt.ylabel('loss')\n",
    "plt.xlabel('epoch')\n",
    "plt.legend(['train', 'validation'], loc='upper left')\n",
    "plt.show()"
   ]
  },
  {
   "cell_type": "code",
   "execution_count": 21,
   "id": "cleared-alcohol",
   "metadata": {
    "execution": {
     "iopub.execute_input": "2021-05-21T12:00:22.043857Z",
     "iopub.status.busy": "2021-05-21T12:00:22.043197Z",
     "iopub.status.idle": "2021-05-21T12:00:22.608574Z",
     "shell.execute_reply": "2021-05-21T12:00:22.609029Z",
     "shell.execute_reply.started": "2021-05-20T16:18:24.172542Z"
    },
    "papermill": {
     "duration": 0.668394,
     "end_time": "2021-05-21T12:00:22.609206",
     "exception": false,
     "start_time": "2021-05-21T12:00:21.940812",
     "status": "completed"
    },
    "tags": []
   },
   "outputs": [
    {
     "name": "stdout",
     "output_type": "stream",
     "text": [
      "Accuracy =  85.13513513513513\n"
     ]
    }
   ],
   "source": [
    "model.load_weights('./weights.h5')\n",
    "count = 0\n",
    "predictions = model.predict(X_test)\n",
    "for i in range(len(predictions)):\n",
    "    if(predictions[i]>0.5):\n",
    "        predictions[i]=1\n",
    "    else:\n",
    "        predictions[i]=0\n",
    "    if (y_test[i] == predictions[i]):\n",
    "        count+=1\n",
    "        \n",
    "print(\"Accuracy = \", count/len(predictions) * 100.0)"
   ]
  },
  {
   "cell_type": "code",
   "execution_count": 22,
   "id": "weighted-helmet",
   "metadata": {
    "execution": {
     "iopub.execute_input": "2021-05-21T12:00:22.795577Z",
     "iopub.status.busy": "2021-05-21T12:00:22.794925Z",
     "iopub.status.idle": "2021-05-21T12:00:23.135970Z",
     "shell.execute_reply": "2021-05-21T12:00:23.135323Z",
     "shell.execute_reply.started": "2021-05-20T16:14:27.307669Z"
    },
    "papermill": {
     "duration": 0.43697,
     "end_time": "2021-05-21T12:00:23.136126",
     "exception": false,
     "start_time": "2021-05-21T12:00:22.699156",
     "status": "completed"
    },
    "tags": []
   },
   "outputs": [
    {
     "name": "stdout",
     "output_type": "stream",
     "text": [
      "Confusion Matrix\n",
      "[[1627   86]\n",
      " [ 233  200]]\n",
      "AxesSubplot(0.125,0.125;0.62x0.755)\n",
      "              precision    recall  f1-score   support\n",
      "\n",
      "           0    0.87473   0.94980   0.91072      1713\n",
      "           1    0.69930   0.46189   0.55633       433\n",
      "\n",
      "    accuracy                        0.85135      2146\n",
      "   macro avg    0.78702   0.70584   0.73352      2146\n",
      "weighted avg    0.83933   0.85135   0.83921      2146\n",
      "\n"
     ]
    },
    {
     "data": {
      "image/png": "[encoded data removed]",
      "text/plain": [
       "<Figure size 432x288 with 2 Axes>"
      ]
     },
     "metadata": {
      "needs_background": "light"
     },
     "output_type": "display_data"
    }
   ],
   "source": [
    "from sklearn.metrics import classification_report, confusion_matrix\n",
    "import seaborn as sns\n",
    "print('Confusion Matrix')\n",
    "cm = confusion_matrix(y_test, predictions)\n",
    "print(cm)\n",
    "print(sns.heatmap(confusion_matrix(y_test,predictions),annot=True,fmt=\"d\"))\n",
    "print(classification_report(y_test,predictions, digits=5))"
   ]
  },
  {
   "cell_type": "code",
   "execution_count": 23,
   "id": "coordinated-frank",
   "metadata": {
    "execution": {
     "iopub.execute_input": "2021-05-21T12:00:23.328480Z",
     "iopub.status.busy": "2021-05-21T12:00:23.327812Z",
     "iopub.status.idle": "2021-05-21T12:00:23.330794Z",
     "shell.execute_reply": "2021-05-21T12:00:23.330173Z",
     "shell.execute_reply.started": "2021-05-20T16:14:27.579934Z"
    },
    "papermill": {
     "duration": 0.102243,
     "end_time": "2021-05-21T12:00:23.330936",
     "exception": false,
     "start_time": "2021-05-21T12:00:23.228693",
     "status": "completed"
    },
    "tags": []
   },
   "outputs": [],
   "source": [
    "def predict_emotion(stri):\n",
    "    review = re.sub('[^a-zA-Z]', ' ', stri)\n",
    "    review = review.lower()\n",
    "    review = review.split()\n",
    "    review = [ps.stem(word) for word in review if not word in stopwords.words('english')]\n",
    "    review = ' '.join(review)\n",
    "    onehot_repr = [one_hot(review,voc_size)] \n",
    "    embed = pad_sequences(onehot_repr,padding='pre',maxlen=sent_length)\n",
    "    predicti = model.predict(embed)\n",
    "    if(predicti>0.5):\n",
    "        predicti=1\n",
    "    else:\n",
    "        predicti=0\n",
    "    return le.classes_[(predicti)]"
   ]
  },
  {
   "cell_type": "code",
   "execution_count": 24,
   "id": "fourth-activation",
   "metadata": {
    "execution": {
     "iopub.execute_input": "2021-05-21T12:00:23.519352Z",
     "iopub.status.busy": "2021-05-21T12:00:23.518716Z",
     "iopub.status.idle": "2021-05-21T12:00:23.561385Z",
     "shell.execute_reply": "2021-05-21T12:00:23.560846Z",
     "shell.execute_reply.started": "2021-05-20T16:14:27.589786Z"
    },
    "papermill": {
     "duration": 0.139162,
     "end_time": "2021-05-21T12:00:23.561537",
     "exception": false,
     "start_time": "2021-05-21T12:00:23.422375",
     "status": "completed"
    },
    "tags": []
   },
   "outputs": [
    {
     "data": {
      "text/plain": [
       "'Positive'"
      ]
     },
     "execution_count": 24,
     "metadata": {},
     "output_type": "execute_result"
    }
   ],
   "source": [
    "predict_emotion(\"@realDonaldTrump delivered the highest ratings in the history of presidential debates.\")"
   ]
  },
  {
   "cell_type": "code",
   "execution_count": null,
   "id": "prospective-index",
   "metadata": {
    "papermill": {
     "duration": 0.094072,
     "end_time": "2021-05-21T12:00:23.748131",
     "exception": false,
     "start_time": "2021-05-21T12:00:23.654059",
     "status": "completed"
    },
    "tags": []
   },
   "outputs": [],
   "source": []
  }
 ],
 "metadata": {
  "kernelspec": {
   "display_name": "Python 3",
   "language": "python",
   "name": "python3"
  },
  "language_info": {
   "codemirror_mode": {
    "name": "ipython",
    "version": 3
   },
   "file_extension": ".py",
   "mimetype": "text/x-python",
   "name": "python",
   "nbconvert_exporter": "python",
   "pygments_lexer": "ipython3",
   "version": "3.8.8"
  },
  "papermill": {
   "default_parameters": {},
   "duration": 64.827604,
   "end_time": "2021-05-21T12:00:25.568728",
   "environment_variables": {},
   "exception": null,
   "input_path": "__notebook__.ipynb",
   "output_path": "__notebook__.ipynb",
   "parameters": {},
   "start_time": "2021-05-21T11:59:20.741124",
   "version": "2.3.3"
  }
 },
 "nbformat": 4,
 "nbformat_minor": 5
}
